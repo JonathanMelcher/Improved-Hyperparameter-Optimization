{
 "cells": [
  {
   "cell_type": "code",
   "execution_count": 1,
   "metadata": {},
   "outputs": [],
   "source": [
    "import numpy as np\n",
    "import matplotlib.pyplot as plt\n",
    "import matplotlib\n",
    "import pickle\n",
    "\n",
    "plt.style.use('classic')\n",
    "\n",
    "matplotlib.rcParams['font.family']='sans-serif'\n",
    "matplotlib.rcParams['font.sans-serif']=['DejaVu Serif']\n",
    "matplotlib.rcParams['mathtext.fontset'] = 'dejavuserif'"
   ]
  },
  {
   "cell_type": "code",
   "execution_count": 2,
   "metadata": {},
   "outputs": [],
   "source": [
    "def load_data_dim_d(d, max_res):\n",
    "    \"\"\"\n",
    "    Load data from all 5 methods for a given diamension.\n",
    "    \n",
    "    Parameters\n",
    "    ----------\n",
    "    d : int\n",
    "        Dimension of the problem.\n",
    "    max_res : int or list or np.array\n",
    "        Maximum resolution of the grids.\n",
    "\n",
    "    Returns\n",
    "    -------\n",
    "    data : list\n",
    "        List of the data from all 5 methods.\n",
    "    \"\"\"\n",
    "    \n",
    "    if type(max_res) == int:\n",
    "        hyper_data_save = []\n",
    "        lhs_data_save = []\n",
    "        rand_data_save = []\n",
    "        RegGrid_data_save = []\n",
    "        rsa_data_save = []\n",
    "        gridrandom_data_save = []\n",
    "        true_hyper_data_save = []\n",
    "        \n",
    "        for i in range(2, max_res+1):\n",
    "\n",
    "            #methods that are not present are loaded as grid\n",
    "\n",
    "            with open('values_grid_d_{}_res{}.p'.format(d,i), 'rb') as f:\n",
    "                data = pickle.load(f)\n",
    "            hyper_data_save.append(data)\n",
    "            with open('values_grid_d_{}_res{}.p'.format(d,i), 'rb') as f:\n",
    "                data = pickle.load(f)\n",
    "            lhs_data_save.append(data)\n",
    "            with open('values_random_d_{}_res{}.p'.format(d,i), 'rb') as f:\n",
    "                data = pickle.load(f)\n",
    "            rand_data_save.append(data)\n",
    "            with open('values_grid_d_{}_res{}.p'.format(d,i), 'rb') as f:\n",
    "                data = pickle.load(f)\n",
    "            RegGrid_data_save.append(data)\n",
    "            with open('values_RSA_d_{}_res{}.p'.format(d,i), 'rb') as f:\n",
    "                data = pickle.load(f)\n",
    "            rsa_data_save.append(data)\n",
    "            with open('values_gridrandom_d_{}_res{}.p'.format(d,i), 'rb') as f:\n",
    "                data = pickle.load(f)\n",
    "            gridrandom_data_save.append(data)\n",
    "            with open('values_tilling_d_{}_res{}.p'.format(d,i), 'rb') as f:\n",
    "                data = pickle.load(f)\n",
    "            true_hyper_data_save.append(data)\n",
    "\n",
    "\n",
    "        return hyper_data_save, lhs_data_save, rand_data_save, RegGrid_data_save, rsa_data_save, gridrandom_data_save, true_hyper_data_save"
   ]
  },
  {
   "cell_type": "code",
   "execution_count": 3,
   "metadata": {},
   "outputs": [],
   "source": [
    "\n",
    "\n",
    "def analyse_data(data,N_batch, max_res, d, mode=1):\n",
    "    \"\"\"\n",
    "    Analyse the data from all 5 methods.\n",
    "\n",
    "    Parameters\n",
    "    ----------\n",
    "    data : list\n",
    "        List of the data from all 5 methods.\n",
    "    N_batch : int\n",
    "        Number of batches.\n",
    "    number_of_girds : int\n",
    "        Number of grids.\n",
    "    d : int\n",
    "        Dimension of the grid.\n",
    "\n",
    "    Returns\n",
    "    -------\n",
    "    mean: list\n",
    "        List of the mean of the minimum scaled loss from all 5 methods.\n",
    "    std: list\n",
    "        List of the standard deviation of the minimum scaled loss from all 5 methods.\n",
    "    \"\"\"\n",
    "    if type(max_res) == list or type(max_res) == np.ndarray:\n",
    "        max_res = len(max_res)\n",
    "\n",
    "    mean_hyper = []\n",
    "    mean_lhs = []\n",
    "    mean_rand = []\n",
    "    mean_RegGrid = []\n",
    "    mean_rsa = []\n",
    "    mean_gridrandom = []\n",
    "    mean_true_hyper = []\n",
    "\n",
    "    std_hyper = []\n",
    "    std_lhs = []\n",
    "    std_rand = []\n",
    "    std_RegGrid = []\n",
    "    std_rsa = []\n",
    "    std_gridrandom = []\n",
    "    std_true_hyper = []\n",
    "\n",
    "    min_loss_hyper_save = []\n",
    "    min_loss_lhs_save = []\n",
    "    min_loss_rand_save = []\n",
    "    min_loss_RegGrid_save = []\n",
    "    min_loss_rsa_save = []\n",
    "    min_loss_gridrandom_save = []\n",
    "    min_loss_true_hyper_save = []\n",
    "\n",
    "    min_all = []\n",
    "    mean_resilution_rsa = []\n",
    "    std_resilution_rsa = []\n",
    "    mean_resilution_true_hyper = []\n",
    "    std_resilution_true_hyper = []\n",
    "    for i in range(max_res-1):\n",
    "        min_loss_hyper = []\n",
    "        min_loss_lhs = []\n",
    "        min_loss_rand = []\n",
    "        min_loss_RegGrid = []\n",
    "        min_loss_rsa = []\n",
    "        min_loss_gridrandom = []\n",
    "        min_loss_true_hyper = []\n",
    "\n",
    "\n",
    "        resilution_rsa = []\n",
    "        resilution_true_hyper = []\n",
    "        for j in range(N_batch):\n",
    "            min_loss_hyper.append  (np.min(np.array(data[0][i][j])[:, d]))\n",
    "            min_loss_lhs.append    (np.min(np.array(data[1][i][j])[:, d]))\n",
    "            min_loss_rand.append   (np.min(np.array(data[2][i][j])[:, d]))\n",
    "            min_loss_RegGrid.append(np.min(np.array(data[3][i][j])[:, d]))\n",
    "            min_loss_rsa.append    (np.min(np.array(data[4][i][j])[:, d]))\n",
    "            min_loss_gridrandom.append(np.min(np.array(data[5][i][j])[:, d]))\n",
    "            min_loss_true_hyper.append(np.min(np.array(data[6][i][j])[:, d]))\n",
    "\n",
    "            resilution_rsa.append  (   len(np.array(data[4][i][j])[:, d]))\n",
    "            resilution_true_hyper.append  (   len(np.array(data[6][i][j])[:, d]))\n",
    "\n",
    "        \n",
    "        min_maks = [10*sth for sth in min_loss_RegGrid] \n",
    "        \n",
    "        \n",
    "        if mode==1:\n",
    "            min_temp = np.vstack((min_loss_rand, min_loss_RegGrid, min_loss_true_hyper))\n",
    "        if mode==2:\n",
    "            min_temp = np.vstack((min_loss_rand, min_loss_RegGrid, min_loss_rsa, min_loss_gridrandom, min_loss_true_hyper))\n",
    "\n",
    "        min_temp = np.min(min_temp, axis=0)\n",
    "        min_all.append(min_temp)\n",
    "\n",
    "\n",
    "\n",
    "        mean_resilution_rsa.append(np.mean(resilution_rsa))\n",
    "        std_resilution_rsa.append(np.std(resilution_rsa))\n",
    "        mean_resilution_true_hyper.append(np.mean(resilution_true_hyper))\n",
    "        std_resilution_true_hyper.append(np.std(resilution_true_hyper))\n",
    "        \n",
    "        min_loss_hyper_save.append(min_loss_hyper)\n",
    "        min_loss_lhs_save.append(min_loss_lhs)\n",
    "        min_loss_rand_save.append(min_loss_rand)\n",
    "        min_loss_RegGrid_save.append(min_loss_RegGrid)\n",
    "        min_loss_rsa_save.append(min_loss_rsa)\n",
    "        min_loss_gridrandom_save.append(min_loss_gridrandom)\n",
    "        min_loss_true_hyper_save.append(min_loss_true_hyper)\n",
    "\n",
    "    min_all = np.min(np.array(min_all), axis=0)\n",
    "\n",
    "    min_loss_hyper_save = np.array(min_loss_hyper_save)/min_all\n",
    "    min_loss_lhs_save = np.array(min_loss_lhs_save)/min_all\n",
    "    min_loss_rand_save = np.array(min_loss_rand_save)/min_all\n",
    "    min_loss_RegGrid_save = np.array(min_loss_RegGrid_save)/min_all\n",
    "    min_loss_rsa_save = np.array(min_loss_rsa_save)/min_all\n",
    "    min_loss_gridrandom_save = np.array(min_loss_gridrandom_save)/min_all\n",
    "    min_loss_true_hyper_save = np.array(min_loss_true_hyper_save)/min_all\n",
    "\n",
    "\n",
    "    for i in range(max_res-1):\n",
    "\n",
    "        if mode==1:\n",
    "            for j in range(len(min_loss_lhs_save[i])):\n",
    "                l = [min_loss_RegGrid_save[i][j], min_loss_rand_save[i][j], 100*min_loss_rsa_save[i][j], 100*min_loss_gridrandom_save[i][j], min_loss_true_hyper_save[i][j]]\n",
    "                wins[l.index(min(l))] +=1\n",
    "\n",
    "        if mode==2:\n",
    "            for j in range(len(min_loss_lhs_save[i])):\n",
    "                l = [min_loss_RegGrid_save[i][j], min_loss_rand_save[i][j], min_loss_rsa_save[i][j], min_loss_gridrandom_save[i][j], min_loss_true_hyper_save[i][j]]\n",
    "                wins[l.index(min(l))] +=1\n",
    "\n",
    "        mean_hyper.append(np.mean(min_loss_hyper_save[i]))\n",
    "        mean_lhs.append(np.mean(min_loss_lhs_save[i]))\n",
    "        mean_rand.append(np.mean(min_loss_rand_save[i]))\n",
    "        mean_RegGrid.append(np.mean(min_loss_RegGrid_save[i]))\n",
    "        mean_rsa.append(np.mean(min_loss_rsa_save[i]))\n",
    "        mean_gridrandom.append(np.mean(min_loss_gridrandom_save[i]))\n",
    "        mean_true_hyper.append(np.mean(min_loss_true_hyper_save[i]))\n",
    "\n",
    "\n",
    "        hyper_const = (mean_hyper[-1])/(mean_RegGrid[-1])\n",
    "        lhs_const = (mean_lhs[-1])/(mean_RegGrid[-1])\n",
    "        rand_const = (mean_rand[-1])/(mean_RegGrid[-1])\n",
    "        RegGrid_const = (mean_RegGrid[-1])/(mean_RegGrid[-1])\n",
    "        rsa_const = (mean_rsa[-1])/(mean_RegGrid[-1])\n",
    "        gridrandom_const = (mean_gridrandom[-1])/(mean_RegGrid[-1])\n",
    "        true_hyper_const = (mean_true_hyper[-1])/(mean_RegGrid[-1])\n",
    "\n",
    "       \n",
    "\n",
    "\n",
    "        std_hyper.append(hyper_const*np.sqrt((np.std(min_loss_hyper_save[i])/(mean_hyper[-1]))**2 + (np.std(min_loss_RegGrid_save[i])/(mean_RegGrid[-1]))**2)/np.sqrt(N_batch))\n",
    "        std_lhs.append(lhs_const*np.sqrt((np.std(min_loss_lhs_save[i])/(mean_lhs[-1]))**2 + (np.std(min_loss_RegGrid_save[i])/(mean_RegGrid[-1]))**2)/np.sqrt(N_batch))\n",
    "        std_rand.append(rand_const*np.sqrt((np.std(min_loss_rand_save[i])/(mean_rand[-1]))**2 + (np.std(min_loss_RegGrid_save[i])/(mean_RegGrid[-1]))**2)/np.sqrt(N_batch))\n",
    "        std_RegGrid.append(0)\n",
    "        std_rsa.append(rsa_const*np.sqrt((np.std(min_loss_rsa_save[i])/(mean_rsa[-1]))**2 + (np.std(min_loss_RegGrid_save[i])/(mean_RegGrid[-1]))**2)/np.sqrt(N_batch))\n",
    "        std_gridrandom.append(gridrandom_const*np.sqrt((np.std(min_loss_gridrandom_save[i])/(mean_gridrandom[-1]))**2 + (np.std(min_loss_RegGrid_save[i])/(mean_RegGrid[-1]))**2)/np.sqrt(N_batch))\n",
    "        std_true_hyper.append(true_hyper_const*np.sqrt((np.std(min_loss_true_hyper_save[i])/(mean_true_hyper[-1]))**2 + (np.std(min_loss_RegGrid_save[i])/(mean_RegGrid[-1]))**2)/np.sqrt(N_batch))\n",
    "\n",
    "    mean_hyper = np.array(mean_hyper)\n",
    "    mean_lhs = np.array(mean_lhs)\n",
    "    mean_rand = np.array(mean_rand)\n",
    "    mean_RegGrid = np.array(mean_RegGrid)\n",
    "    mean_rsa = np.array(mean_rsa)\n",
    "    mean_gridrandom = np.array(mean_gridrandom)\n",
    "    mean_true_hyper = np.array(mean_true_hyper)\n",
    "\n",
    "\n",
    "    mean_hyper = (mean_hyper)/(mean_RegGrid)\n",
    "    mean_lhs = (mean_lhs)/(mean_RegGrid)\n",
    "    mean_rand = (mean_rand)/(mean_RegGrid)\n",
    "    mean_rsa = (mean_rsa)/(mean_RegGrid)\n",
    "    mean_gridrandom = (mean_gridrandom)/(mean_RegGrid)    \n",
    "    mean_true_hyper = (mean_true_hyper)/(mean_RegGrid)    \n",
    "    mean_RegGrid = (mean_RegGrid)/(mean_RegGrid)\n",
    "    \n",
    "    \n",
    "    std_hyper = np.array(std_hyper)\n",
    "    std_lhs = np.array(std_lhs)\n",
    "    std_rand = np.array(std_rand)\n",
    "    std_RegGrid = np.array(std_RegGrid)\n",
    "    std_rsa = np.array(std_rsa)\n",
    "    std_gridrandom = np.array(std_gridrandom)\n",
    "    std_true_hyper = np.array(std_true_hyper)\n",
    "\n",
    "\n",
    "    return [mean_hyper, mean_lhs, mean_rand, mean_RegGrid, mean_rsa, mean_gridrandom, mean_true_hyper], \\\n",
    "    [std_hyper, std_lhs, std_rand, std_RegGrid, std_rsa, std_gridrandom, std_true_hyper], \\\n",
    "    [mean_resilution_rsa, std_resilution_rsa], [mean_resilution_true_hyper, std_resilution_true_hyper], \\\n",
    "    [min_loss_hyper_save, min_loss_lhs_save, min_loss_rand_save, min_loss_RegGrid_save, min_loss_rsa_save, min_loss_gridrandom_save, min_loss_true_hyper_save]"
   ]
  },
  {
   "cell_type": "code",
   "execution_count": 4,
   "metadata": {},
   "outputs": [
    {
     "data": {
      "image/png": "[encoded data removed]",
      "text/plain": [
       "<Figure size 1680x400 with 3 Axes>"
      ]
     },
     "metadata": {},
     "output_type": "display_data"
    }
   ],
   "source": [
    "fig, ax = plt.subplots(1, 3, figsize=(7*3, 5))\n",
    "plt.subplots_adjust(wspace=0.15)\n",
    "width_grid=0.2"
   ]
  },
  {
   "cell_type": "code",
   "execution_count": 5,
   "metadata": {},
   "outputs": [],
   "source": [
    "wins_grid=0\n",
    "wins_random=0\n",
    "wins_hyperuniform=0\n",
    "\n",
    "wins = [0, 0, 0, 0, 0]\n",
    "\n",
    "data = load_data_dim_d(2, 5)\n",
    "mean,std,rsa_res, true_hyper_res, d2_all = analyse_data(data,20,5,2)"
   ]
  },
  {
   "cell_type": "code",
   "execution_count": 6,
   "metadata": {},
   "outputs": [
    {
     "data": {
      "text/plain": [
       "<Figure size 640x480 with 0 Axes>"
      ]
     },
     "metadata": {},
     "output_type": "display_data"
    }
   ],
   "source": [
    "X =np.arange(2,6)**2\n",
    "\n",
    "ax[0].errorbar(X, mean[3], yerr=std[3], label='Grid', marker='o', markersize=10, linestyle='-', color='green', linewidth=2, elinewidth=2, capthick=2)\n",
    "ax[0].fill_between(X, mean[3]-std[3], mean[3]+std[3], alpha=0.03, color='green')\n",
    "ax[0].errorbar(X, mean[2], yerr=std[2], label='Random', marker='^', markersize=10, linestyle='-', color='blue', linewidth=2, elinewidth=2, capthick=2)\n",
    "ax[0].fill_between(X, mean[2]-std[2], mean[2]+std[2], alpha=0.03, color='blue')\n",
    "ax[0].errorbar(true_hyper_res[0], mean[6], yerr=std[6], xerr=true_hyper_res[1], label='Hyperuniform', marker='s',  markersize=10, linestyle='-', color='red', linewidth=2, elinewidth=2, capthick=2)\n",
    "ax[0].fill_between(true_hyper_res[0], mean[6]-std[6], mean[6]+std[6], alpha=0.03, color='red')\n",
    "\n",
    "ax[0].set_ylabel('Scaled loss relative to \\n grid search', fontsize = 20)\n",
    "\n",
    "maks_power = int(np.log10(20**2))\n",
    "\n",
    "values_upper = []\n",
    "ticks_upper = []\n",
    "\n",
    "ax[0].set_xscale('log')\n",
    "ax[0].set(ylim=(0.25, 1.08), xlim=(3, 30))\n",
    "\n",
    "for i in range(1, maks_power+1):\n",
    "  if 10**i >= 3 and 10**i <= 30:\n",
    "    values_upper.append(10**i)\n",
    "    ticks_upper.append('$10^{}$'.format(i))\n",
    "      \n",
    "ax0 = ax[0].twiny()\n",
    "ax0.set_xlim(3, 30)\n",
    "ax0.set_xscale('log')\n",
    "ax0.set_xticks(values_upper, ticks_upper, fontsize=20)\n",
    "ax[0].set_xticks([i**2 for i in range(2, 6)], [r'${}^{}$'.format(i, 2) for i in range(2, 6)], fontsize=20)\n",
    "ax[0].tick_params(labelsize=20)\n",
    "\n",
    "ax0.set_axisbelow(True)\n",
    "ax[0].set_axisbelow(True)\n",
    "ax[0].set_facecolor('whitesmoke')\n",
    "\n",
    "plt.tight_layout()"
   ]
  },
  {
   "cell_type": "code",
   "execution_count": 7,
   "metadata": {},
   "outputs": [
    {
     "name": "stdout",
     "output_type": "stream",
     "text": [
      "Data used in the manuscript. It refers to the comparison of only grid, random, and hyperuniform strategies.\n",
      "\n",
      "2d-how-much-better\n",
      "Hyperuniform-than-random -11.459971029972387\n",
      "Hyperuniform-than-grid 15.838965786048991\n"
     ]
    }
   ],
   "source": [
    "print(\"Data used in the manuscript. It refers to the comparison of only grid, random, and hyperuniform strategies.\")\n",
    "print(\"\")\n",
    "print(\"2d-how-much-better\")\n",
    "print(\"Hyperuniform-than-random\", sum([(mean[2][i]-mean[6][i])/mean[2][i] for i in range(len(mean[6]))])*100/len(mean[6]))\n",
    "print(\"Hyperuniform-than-grid\", sum([(mean[3][i]-mean[6][i])/mean[3][i] for i in range(len(mean[6]))])*100/len(mean[6]))\n",
    "\n",
    "wins_grid += wins[0]\n",
    "wins_random += wins[1]\n",
    "wins_hyperuniform += wins[4]"
   ]
  },
  {
   "cell_type": "code",
   "execution_count": 8,
   "metadata": {},
   "outputs": [],
   "source": [
    "wins = [0, 0, 0, 0, 0]\n",
    "#index 0 is grid, index 1 random, index 2 RSA\n",
    "\n",
    "data = load_data_dim_d(2, 5)\n",
    "mean,std,rsa_res, true_hyper_res, d2_all = analyse_data(data,20,5,2,mode=2)"
   ]
  },
  {
   "cell_type": "code",
   "execution_count": 9,
   "metadata": {},
   "outputs": [
    {
     "name": "stdout",
     "output_type": "stream",
     "text": [
      "Data used in Table III. It refers to the comparison of all considered strategies\n",
      "\n",
      "Data for 2d - fraction of wins\n",
      "Grid 0.1125\n",
      "Random 0.2375\n",
      "RSA 0.2625\n",
      "Gridrandom 0.225\n",
      "Hyperuniform 0.1625\n",
      "\n",
      "Data for 2d - mean loss\n",
      "Grid 1.0\n",
      "Random 0.7911475672375696\n",
      "RSA 0.8077281627557203\n",
      "Gridrandom 0.8095210443801109\n",
      "Hyperuniform 0.8430870691717393\n"
     ]
    }
   ],
   "source": [
    "#Now the data used in the manuscript is displayed\n",
    "print(\"Data used in Table III. It refers to the comparison of all considered strategies\")\n",
    "\n",
    "print(\"\")\n",
    "print(\"Data for 2d - fraction of wins\")\n",
    "print(\"Grid\", wins[0]/sum(wins))\n",
    "print(\"Random\", wins[1]/sum(wins))\n",
    "print(\"RSA\", wins[2]/sum(wins))\n",
    "print(\"Gridrandom\", wins[3]/sum(wins))\n",
    "print(\"Hyperuniform\", wins[4]/sum(wins))\n",
    "\n",
    "print(\"\")\n",
    "print(\"Data for 2d - mean loss\")\n",
    "print(\"Grid\", sum(mean[3])/len(mean[3]))\n",
    "print(\"Random\", sum(mean[2])/len(mean[2]))\n",
    "print(\"RSA\", sum(mean[4])/len(mean[4]))\n",
    "print(\"Gridrandom\", sum(mean[5])/len(mean[5]))\n",
    "print(\"Hyperuniform\", sum(mean[6])/len(mean[6]))"
   ]
  },
  {
   "cell_type": "code",
   "execution_count": 10,
   "metadata": {},
   "outputs": [],
   "source": [
    "wins = [0, 0, 0, 0, 0]\n",
    "\n",
    "data = load_data_dim_d(3, 5)\n",
    "mean,std,rsa_res,true_hyper_res,d3_all = analyse_data(data,20,5,3)"
   ]
  },
  {
   "cell_type": "code",
   "execution_count": 11,
   "metadata": {
    "scrolled": true
   },
   "outputs": [
    {
     "data": {
      "text/plain": [
       "<Figure size 640x480 with 0 Axes>"
      ]
     },
     "metadata": {},
     "output_type": "display_data"
    }
   ],
   "source": [
    "X =np.arange(2,6)**3\n",
    "\n",
    "ax[1].errorbar(X, mean[3], yerr=std[3], label='Grid', marker='o', markersize=10, linestyle='-', color='green', linewidth=2, elinewidth=2, capthick=2)\n",
    "ax[1].fill_between(X, mean[3]-std[3], mean[3]+std[3], alpha=0.03, color='green')\n",
    "ax[1].errorbar(X, mean[2], yerr=std[2], label='Random', marker='^', markersize=10, linestyle='-', color='blue', linewidth=2, elinewidth=2, capthick=2)\n",
    "ax[1].fill_between(X, mean[2]-std[2], mean[2]+std[2], alpha=0.03, color='blue')\n",
    "ax[1].errorbar(true_hyper_res[0], mean[6], yerr=std[6], xerr=true_hyper_res[1], label='Hyperuniform', marker='s',  markersize=10, linestyle='-', color='red', linewidth=2, elinewidth=2, capthick=2)\n",
    "ax[1].fill_between(true_hyper_res[0], mean[6]-std[6], mean[6]+std[6], alpha=0.03, color='red')\n",
    "ax[1].tick_params(labelsize=20)\n",
    "\n",
    "\n",
    "handles, labels = ax[1].get_legend_handles_labels()\n",
    "handles = [x[0] for x in handles]\n",
    "\n",
    "l = ax[1].legend(handles, labels, fontsize=20, markerscale=1.3, loc = (1.5, 0.02))\n",
    "\n",
    "for line in l.get_lines():\n",
    "   line.set_linewidth(2)\n",
    "\n",
    "maks_power = int(np.log10(5**3))\n",
    "\n",
    "values_upper = []\n",
    "ticks_upper = []\n",
    "\n",
    "ax[1].set_xscale('log')\n",
    "ax[1].set(ylim=(0.35, 1.05), xlim=(6, 150))\n",
    "\n",
    "for i in range(1, maks_power+1):\n",
    "  if 10**i >= 6 and 10**i <= 150:\n",
    "    values_upper.append(10**i)\n",
    "    ticks_upper.append('$10^{}$'.format(i))\n",
    "\n",
    "\n",
    "ax1 = ax[1].twiny()\n",
    "ax1.set_xlim(6, 150)\n",
    "ax1.set_xscale('log')\n",
    "ax1.set_xticks(values_upper, ticks_upper, fontsize=20)\n",
    "ax[1].set_xticks([i**3 for i in range(2, 6)], [r'${}^{}$'.format(i, 3) for i in range(2, 6)], fontsize=20)\n",
    "\n",
    "ax1.set_axisbelow(True)\n",
    "ax[1].set_axisbelow(True)\n",
    "ax[1].set_facecolor('whitesmoke')\n",
    "\n",
    "ax[1].set_zorder(1)\n",
    "ax1.set_zorder(1)\n",
    "\n",
    "plt.tight_layout()"
   ]
  },
  {
   "cell_type": "code",
   "execution_count": 12,
   "metadata": {},
   "outputs": [
    {
     "name": "stdout",
     "output_type": "stream",
     "text": [
      "Data used in the manuscript. It refers to the comparison of only grid, random, and hyperuniform.\n",
      "\n",
      "3d-how-much-better\n",
      "Hyperuniform-than-random 1.3924446187189552\n",
      "Hyperuniform-than-grid 22.39162873984566\n"
     ]
    }
   ],
   "source": [
    "print(\"Data used in the manuscript. It refers to the comparison of only grid, random, and hyperuniform.\")\n",
    "print(\"\")\n",
    "print(\"3d-how-much-better\")\n",
    "print(\"Hyperuniform-than-random\", sum([(mean[2][i]-mean[6][i])/mean[2][i] for i in range(len(mean[6]))])*100/len(mean[6]))\n",
    "print(\"Hyperuniform-than-grid\", sum([(mean[3][i]-mean[6][i])/mean[3][i] for i in range(len(mean[6]))])*100/len(mean[6]))\n",
    "\n",
    "wins_grid += wins[0]\n",
    "wins_random += wins[1]\n",
    "wins_hyperuniform += wins[4]"
   ]
  },
  {
   "cell_type": "code",
   "execution_count": 13,
   "metadata": {},
   "outputs": [],
   "source": [
    "wins = [0, 0, 0, 0, 0]\n",
    "\n",
    "data = load_data_dim_d(3, 5)\n",
    "mean,std,rsa_res,true_hyper_res,d3_all = analyse_data(data,20,5,3,mode=2)"
   ]
  },
  {
   "cell_type": "code",
   "execution_count": 14,
   "metadata": {},
   "outputs": [
    {
     "name": "stdout",
     "output_type": "stream",
     "text": [
      "Data used in Table III. It refers to the comparison of all considered strategies\n",
      "\n",
      "Data for 3d - fraction of wins\n",
      "Grid 0.075\n",
      "Random 0.2\n",
      "RSA 0.2\n",
      "Gridrandom 0.3125\n",
      "Hyperuniform 0.2125\n",
      "\n",
      "Data for 3d - mean loss\n",
      "Grid 1.0\n",
      "Random 0.7921920575341157\n",
      "RSA 0.7968058311268269\n",
      "Gridrandom 0.7664446816260633\n",
      "Hyperuniform 0.775963350179091\n"
     ]
    }
   ],
   "source": [
    "#Now the data used in the manuscript is displayed\n",
    "\n",
    "print(\"Data used in Table III. It refers to the comparison of all considered strategies\")\n",
    "\n",
    "print(\"\")\n",
    "print(\"Data for 3d - fraction of wins\")\n",
    "print(\"Grid\", wins[0]/sum(wins))\n",
    "print(\"Random\", wins[1]/sum(wins))\n",
    "print(\"RSA\", wins[2]/sum(wins))\n",
    "print(\"Gridrandom\", wins[3]/sum(wins))\n",
    "print(\"Hyperuniform\", wins[4]/sum(wins))\n",
    "\n",
    "print(\"\")\n",
    "print(\"Data for 3d - mean loss\")\n",
    "print(\"Grid\", sum(mean[3])/len(mean[3]))\n",
    "print(\"Random\", sum(mean[2])/len(mean[2]))\n",
    "print(\"RSA\", sum(mean[4])/len(mean[4]))\n",
    "print(\"Gridrandom\", sum(mean[5])/len(mean[5]))\n",
    "print(\"Hyperuniform\", sum(mean[6])/len(mean[6]))"
   ]
  },
  {
   "cell_type": "code",
   "execution_count": 15,
   "metadata": {},
   "outputs": [],
   "source": [
    "wins = [0, 0, 0, 0, 0] \n",
    "\n",
    "data = load_data_dim_d(4, 5)\n",
    "mean,std,rsa_res,true_hyper_res,d4_all = analyse_data(data,20,5,4)"
   ]
  },
  {
   "cell_type": "code",
   "execution_count": 16,
   "metadata": {},
   "outputs": [],
   "source": [
    "X = np.array([2**4, 3**4, 4**4, 5**4])\n",
    "\n",
    "ax[2].errorbar(X, mean[3], yerr=std[3], label='Grid', marker='o', markersize=10, linestyle='-', color='green', linewidth=2, elinewidth=2, capthick=2)\n",
    "ax[2].fill_between(X, mean[3]-std[3], mean[3]+std[3], alpha=0.03, color='green')\n",
    "ax[2].errorbar(X, mean[2], yerr=std[2], label='Random', marker='^', markersize=10, linestyle='-', color='blue', linewidth=2, elinewidth=2, capthick=2)\n",
    "ax[2].fill_between(X, mean[2]-std[2], mean[2]+std[2], alpha=0.03, color='blue')\n",
    "ax[2].errorbar(true_hyper_res[0], mean[6], yerr=std[6], xerr=true_hyper_res[1], label='Hyperuniform', marker='s',  markersize=10, linestyle='-', color='red', linewidth=2, elinewidth=2, capthick=2)\n",
    "ax[2].fill_between(true_hyper_res[0], mean[6]-std[6], mean[6]+std[6], alpha=0.03, color='red')\n",
    "\n",
    "\n",
    "maks_power = int(np.log10(5**4))\n",
    "\n",
    "values_upper = []\n",
    "ticks_upper = []\n",
    "\n",
    "ax[2].set_xscale('log')\n",
    "ax[2].set(ylim=(0.4, 1.075), xlim=(12, 700))\n",
    "\n",
    "for i in range(1, maks_power+1):\n",
    "  if 10**i >= 14 and 10**i <= 700:\n",
    "    values_upper.append(10**i)\n",
    "    ticks_upper.append('$10^{}$'.format(i))\n",
    "\n",
    "ax2 = ax[2].twiny()\n",
    "ax2.set_xlim(12, 700)\n",
    "ax2.set_xscale('log')\n",
    "ax2.set_xticks(values_upper, ticks_upper, fontsize=20)\n",
    "ax[2].set_xticks([i**4 for i in range(2, 6)], [r'${}^{}$'.format(i, 4) for i in range(2, 6)], fontsize=20)\n",
    "ax[2].tick_params(labelsize=20)\n",
    "\n",
    "ax2.set_axisbelow(True)\n",
    "ax[2].set_axisbelow(True)\n",
    "ax[2].set_facecolor('whitesmoke')"
   ]
  },
  {
   "cell_type": "code",
   "execution_count": 17,
   "metadata": {},
   "outputs": [
    {
     "name": "stdout",
     "output_type": "stream",
     "text": [
      "Data used in the manuscript. It refers to the comparison of only grid, random, and hyperuniform.\n",
      "\n",
      "4d-how-much-better\n",
      "Hyperuniform-than-random 0.24932135370222436\n",
      "Hyperuniform-than-grid 16.55556635369945\n"
     ]
    }
   ],
   "source": [
    "print(\"Data used in the manuscript. It refers to the comparison of only grid, random, and hyperuniform.\")\n",
    "print(\"\")\n",
    "print(\"4d-how-much-better\")\n",
    "print(\"Hyperuniform-than-random\", sum([(mean[2][i]-mean[6][i])/mean[2][i] for i in range(len(mean[6]))])*100/len(mean[6]))\n",
    "print(\"Hyperuniform-than-grid\", sum([(mean[3][i]-mean[6][i])/mean[3][i] for i in range(len(mean[6]))])*100/len(mean[6]))\n",
    "\n",
    "wins_grid += wins[0]\n",
    "wins_random += wins[1]\n",
    "wins_hyperuniform += wins[4]"
   ]
  },
  {
   "cell_type": "code",
   "execution_count": 18,
   "metadata": {},
   "outputs": [],
   "source": [
    "wins = [0, 0, 0, 0, 0] \n",
    "\n",
    "data = load_data_dim_d(4, 5)\n",
    "mean,std,rsa_res,true_hyper_res,d4_all = analyse_data(data,20,5,4,mode=2)"
   ]
  },
  {
   "cell_type": "code",
   "execution_count": 19,
   "metadata": {},
   "outputs": [
    {
     "name": "stdout",
     "output_type": "stream",
     "text": [
      "Data used in Table III. It refers to the comparison of all considered strategies\n",
      "\n",
      "Data for 4d - fraction of wins\n",
      "Grid 0.1625\n",
      "Random 0.1875\n",
      "RSA 0.15\n",
      "Gridrandom 0.225\n",
      "Hyperuniform 0.275\n",
      "\n",
      "Data for 4d - mean loss\n",
      "Grid 1.0\n",
      "Random 0.8436173820941356\n",
      "RSA 0.8722199066857377\n",
      "Gridrandom 0.847760524655366\n",
      "Hyperuniform 0.8341940139283623\n"
     ]
    }
   ],
   "source": [
    "#Now the data used in the manuscript is displayed\n",
    "print(\"Data used in Table III. It refers to the comparison of all considered strategies\")\n",
    "\n",
    "print(\"\")\n",
    "print(\"Data for 4d - fraction of wins\")\n",
    "print(\"Grid\", wins[0]/sum(wins))\n",
    "print(\"Random\", wins[1]/sum(wins))\n",
    "print(\"RSA\", wins[2]/sum(wins))\n",
    "print(\"Gridrandom\", wins[3]/sum(wins))\n",
    "print(\"Hyperuniform\", wins[4]/sum(wins))\n",
    "\n",
    "print(\"\")\n",
    "print(\"Data for 4d - mean loss\")\n",
    "print(\"Grid\", sum(mean[3])/len(mean[3]))\n",
    "print(\"Random\", sum(mean[2])/len(mean[2]))\n",
    "print(\"RSA\", sum(mean[4])/len(mean[4]))\n",
    "print(\"Gridrandom\", sum(mean[5])/len(mean[5]))\n",
    "print(\"Hyperuniform\", sum(mean[6])/len(mean[6]))"
   ]
  },
  {
   "cell_type": "code",
   "execution_count": 20,
   "metadata": {},
   "outputs": [
    {
     "name": "stdout",
     "output_type": "stream",
     "text": [
      "Data used in the manuscript. It refers to the comparison of only grid, random, and hyperuniform strategies.\n",
      "\n",
      "Total number of wins\n",
      "Grid 42\n",
      "Random 95\n",
      "Hyperuniform 103\n"
     ]
    }
   ],
   "source": [
    "print(\"Data used in the manuscript. It refers to the comparison of only grid, random, and hyperuniform strategies.\")\n",
    "print(\"\")\n",
    "print(\"Total number of wins\")\n",
    "print(\"Grid\", wins_grid)\n",
    "print(\"Random\", wins_random)\n",
    "print(\"Hyperuniform\", wins_hyperuniform)"
   ]
  },
  {
   "cell_type": "code",
   "execution_count": 21,
   "metadata": {},
   "outputs": [
    {
     "data": {
      "text/plain": [
       "Text(0.5, -0.02, 'Number of sampled points')"
      ]
     },
     "execution_count": 21,
     "metadata": {},
     "output_type": "execute_result"
    }
   ],
   "source": [
    "ax[0].set_title(\"2D\", x=0.1, y=0.8, fontsize=20)\n",
    "ax[1].set_title(\"3D\", x=0.1, y=0.8, fontsize=20)\n",
    "ax[2].set_title(\"4D\", x=0.1, y=0.8, fontsize=20)\n",
    "\n",
    "fig.suptitle(\"Comparison for CNN in 2-4 dimensions\", fontsize=25, y=1.05)\n",
    "fig.text(0.5, -0.02, \"Number of sampled points\", ha ='center', fontsize=20)"
   ]
  },
  {
   "cell_type": "code",
   "execution_count": 22,
   "metadata": {},
   "outputs": [
    {
     "data": {
      "text/plain": [
       "<Figure size 640x480 with 0 Axes>"
      ]
     },
     "metadata": {},
     "output_type": "display_data"
    }
   ],
   "source": [
    "plt.tight_layout()\n",
    "fig.savefig('CNN.png', dpi=600, bbox_inches='tight')"
   ]
  },
  {
   "cell_type": "code",
   "execution_count": null,
   "metadata": {},
   "outputs": [],
   "source": []
  }
 ],
 "metadata": {
  "kernelspec": {
   "display_name": "Python 3 (ipykernel)",
   "language": "python",
   "name": "python3"
  },
  "language_info": {
   "codemirror_mode": {
    "name": "ipython",
    "version": 3
   },
   "file_extension": ".py",
   "mimetype": "text/x-python",
   "name": "python",
   "nbconvert_exporter": "python",
   "pygments_lexer": "ipython3",
   "version": "3.11.5"
  }
 },
 "nbformat": 4,
 "nbformat_minor": 4
}
